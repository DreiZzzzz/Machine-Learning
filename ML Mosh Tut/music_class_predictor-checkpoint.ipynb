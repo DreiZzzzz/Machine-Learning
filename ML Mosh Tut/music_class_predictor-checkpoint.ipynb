{
 "cells": [
  {
   "cell_type": "code",
   "execution_count": 8,
   "id": "a8ca6cf8-9d64-413a-a041-4fa19e2dd8d0",
   "metadata": {},
   "outputs": [
    {
     "ename": "NameError",
     "evalue": "name 'genre' is not defined",
     "output_type": "error",
     "traceback": [
      "\u001b[1;31m---------------------------------------------------------------------------\u001b[0m",
      "\u001b[1;31mNameError\u001b[0m                                 Traceback (most recent call last)",
      "Cell \u001b[1;32mIn[8], line 7\u001b[0m\n\u001b[0;32m      5\u001b[0m music_data \u001b[38;5;241m=\u001b[39m pd\u001b[38;5;241m.\u001b[39mread_csv(\u001b[38;5;124m\"\u001b[39m\u001b[38;5;124mmusic.csv\u001b[39m\u001b[38;5;124m\"\u001b[39m)\n\u001b[0;32m      6\u001b[0m X \u001b[38;5;241m=\u001b[39m music_data\u001b[38;5;241m.\u001b[39mdrop(columns \u001b[38;5;241m=\u001b[39m [\u001b[38;5;124m\"\u001b[39m\u001b[38;5;124mgenre\u001b[39m\u001b[38;5;124m\"\u001b[39m]) \u001b[38;5;66;03m# input set => contains age and gender\u001b[39;00m\n\u001b[1;32m----> 7\u001b[0m Y \u001b[38;5;241m=\u001b[39m music_data[genre] \u001b[38;5;66;03m# output set => contains genre\u001b[39;00m\n\u001b[0;32m      9\u001b[0m model \u001b[38;5;241m=\u001b[39m DecisionTreeClassifier()\n\u001b[0;32m     10\u001b[0m model\u001b[38;5;241m.\u001b[39mfit(X, Y)\n",
      "\u001b[1;31mNameError\u001b[0m: name 'genre' is not defined"
     ]
    }
   ],
   "source": [
    "import pandas as pd\n",
    "from sklearn.tree import DecisionTreeClassifier\n",
    "from sklearn import tree\n",
    "\n",
    "music_data = pd.read_csv(\"music.csv\")\n",
    "X = music_data.drop(columns = [\"genre\"]) # input set => contains age and gender\n",
    "Y = music_data[\"genre\"] # output set => contains genre\n",
    "\n",
    "model = DecisionTreeClassifier()\n",
    "model.fit(X, Y)\n",
    "\n",
    "tree.export_graphviz(model, out_file = \"music-recommender.dot\", \n",
    "                     feature_names = [\"age\", \"gender\"], \n",
    "                     class_names = sorted(Y.unique()), \n",
    "                     label=\"all\", \n",
    "                     rounded = True,\n",
    "                     filled = True)\n"
   ]
  },
  {
   "cell_type": "code",
   "execution_count": null,
   "id": "091531af-ecb4-46b8-9714-2f250d31637e",
   "metadata": {},
   "outputs": [],
   "source": []
  }
 ],
 "metadata": {
  "kernelspec": {
   "display_name": "Python [conda env:base] *",
   "language": "python",
   "name": "conda-base-py"
  },
  "language_info": {
   "codemirror_mode": {
    "name": "ipython",
    "version": 3
   },
   "file_extension": ".py",
   "mimetype": "text/x-python",
   "name": "python",
   "nbconvert_exporter": "python",
   "pygments_lexer": "ipython3",
   "version": "3.12.7"
  }
 },
 "nbformat": 4,
 "nbformat_minor": 5
}
